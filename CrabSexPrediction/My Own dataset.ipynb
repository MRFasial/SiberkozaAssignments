{
 "cells": [
  {
   "cell_type": "code",
   "execution_count": 104,
   "id": "879c26ae",
   "metadata": {},
   "outputs": [
    {
     "data": {
      "text/html": [
       "<div>\n",
       "<style scoped>\n",
       "    .dataframe tbody tr th:only-of-type {\n",
       "        vertical-align: middle;\n",
       "    }\n",
       "\n",
       "    .dataframe tbody tr th {\n",
       "        vertical-align: top;\n",
       "    }\n",
       "\n",
       "    .dataframe thead th {\n",
       "        text-align: right;\n",
       "    }\n",
       "</style>\n",
       "<table border=\"1\" class=\"dataframe\">\n",
       "  <thead>\n",
       "    <tr style=\"text-align: right;\">\n",
       "      <th></th>\n",
       "      <th>Sex</th>\n",
       "      <th>Length</th>\n",
       "      <th>Diameter</th>\n",
       "      <th>Height</th>\n",
       "      <th>Weight</th>\n",
       "      <th>Shucked Weight</th>\n",
       "      <th>Viscera Weight</th>\n",
       "      <th>Shell Weight</th>\n",
       "      <th>Age</th>\n",
       "    </tr>\n",
       "  </thead>\n",
       "  <tbody>\n",
       "    <tr>\n",
       "      <th>0</th>\n",
       "      <td>F</td>\n",
       "      <td>1.4375</td>\n",
       "      <td>1.1750</td>\n",
       "      <td>0.4125</td>\n",
       "      <td>24.635715</td>\n",
       "      <td>12.332033</td>\n",
       "      <td>5.584852</td>\n",
       "      <td>6.747181</td>\n",
       "      <td>9</td>\n",
       "    </tr>\n",
       "    <tr>\n",
       "      <th>1</th>\n",
       "      <td>M</td>\n",
       "      <td>0.8875</td>\n",
       "      <td>0.6500</td>\n",
       "      <td>0.2125</td>\n",
       "      <td>5.400580</td>\n",
       "      <td>2.296310</td>\n",
       "      <td>1.374951</td>\n",
       "      <td>1.559222</td>\n",
       "      <td>6</td>\n",
       "    </tr>\n",
       "    <tr>\n",
       "      <th>2</th>\n",
       "      <td>I</td>\n",
       "      <td>1.0375</td>\n",
       "      <td>0.7750</td>\n",
       "      <td>0.2500</td>\n",
       "      <td>7.952035</td>\n",
       "      <td>3.231843</td>\n",
       "      <td>1.601747</td>\n",
       "      <td>2.764076</td>\n",
       "      <td>6</td>\n",
       "    </tr>\n",
       "    <tr>\n",
       "      <th>3</th>\n",
       "      <td>F</td>\n",
       "      <td>1.1750</td>\n",
       "      <td>0.8875</td>\n",
       "      <td>0.2500</td>\n",
       "      <td>13.480187</td>\n",
       "      <td>4.748541</td>\n",
       "      <td>2.282135</td>\n",
       "      <td>5.244657</td>\n",
       "      <td>10</td>\n",
       "    </tr>\n",
       "    <tr>\n",
       "      <th>4</th>\n",
       "      <td>I</td>\n",
       "      <td>0.8875</td>\n",
       "      <td>0.6625</td>\n",
       "      <td>0.2125</td>\n",
       "      <td>6.903103</td>\n",
       "      <td>3.458639</td>\n",
       "      <td>1.488349</td>\n",
       "      <td>1.700970</td>\n",
       "      <td>6</td>\n",
       "    </tr>\n",
       "    <tr>\n",
       "      <th>...</th>\n",
       "      <td>...</td>\n",
       "      <td>...</td>\n",
       "      <td>...</td>\n",
       "      <td>...</td>\n",
       "      <td>...</td>\n",
       "      <td>...</td>\n",
       "      <td>...</td>\n",
       "      <td>...</td>\n",
       "      <td>...</td>\n",
       "    </tr>\n",
       "    <tr>\n",
       "      <th>3888</th>\n",
       "      <td>F</td>\n",
       "      <td>1.4625</td>\n",
       "      <td>1.1375</td>\n",
       "      <td>0.3250</td>\n",
       "      <td>24.819987</td>\n",
       "      <td>11.651644</td>\n",
       "      <td>5.854172</td>\n",
       "      <td>6.378637</td>\n",
       "      <td>8</td>\n",
       "    </tr>\n",
       "    <tr>\n",
       "      <th>3889</th>\n",
       "      <td>F</td>\n",
       "      <td>1.5500</td>\n",
       "      <td>1.2125</td>\n",
       "      <td>0.4375</td>\n",
       "      <td>34.458817</td>\n",
       "      <td>15.450477</td>\n",
       "      <td>7.172423</td>\n",
       "      <td>9.780577</td>\n",
       "      <td>10</td>\n",
       "    </tr>\n",
       "    <tr>\n",
       "      <th>3890</th>\n",
       "      <td>I</td>\n",
       "      <td>0.6250</td>\n",
       "      <td>0.4625</td>\n",
       "      <td>0.1625</td>\n",
       "      <td>2.012815</td>\n",
       "      <td>0.765436</td>\n",
       "      <td>0.524466</td>\n",
       "      <td>0.637864</td>\n",
       "      <td>5</td>\n",
       "    </tr>\n",
       "    <tr>\n",
       "      <th>3891</th>\n",
       "      <td>I</td>\n",
       "      <td>1.0625</td>\n",
       "      <td>0.7750</td>\n",
       "      <td>0.2625</td>\n",
       "      <td>10.347568</td>\n",
       "      <td>4.507570</td>\n",
       "      <td>2.338834</td>\n",
       "      <td>2.976698</td>\n",
       "      <td>6</td>\n",
       "    </tr>\n",
       "    <tr>\n",
       "      <th>3892</th>\n",
       "      <td>I</td>\n",
       "      <td>0.7875</td>\n",
       "      <td>0.6125</td>\n",
       "      <td>0.2125</td>\n",
       "      <td>4.068153</td>\n",
       "      <td>1.502523</td>\n",
       "      <td>1.346601</td>\n",
       "      <td>1.417475</td>\n",
       "      <td>8</td>\n",
       "    </tr>\n",
       "  </tbody>\n",
       "</table>\n",
       "<p>3893 rows × 9 columns</p>\n",
       "</div>"
      ],
      "text/plain": [
       "     Sex  Length  Diameter  Height     Weight  Shucked Weight  Viscera Weight  \\\n",
       "0      F  1.4375    1.1750  0.4125  24.635715       12.332033        5.584852   \n",
       "1      M  0.8875    0.6500  0.2125   5.400580        2.296310        1.374951   \n",
       "2      I  1.0375    0.7750  0.2500   7.952035        3.231843        1.601747   \n",
       "3      F  1.1750    0.8875  0.2500  13.480187        4.748541        2.282135   \n",
       "4      I  0.8875    0.6625  0.2125   6.903103        3.458639        1.488349   \n",
       "...   ..     ...       ...     ...        ...             ...             ...   \n",
       "3888   F  1.4625    1.1375  0.3250  24.819987       11.651644        5.854172   \n",
       "3889   F  1.5500    1.2125  0.4375  34.458817       15.450477        7.172423   \n",
       "3890   I  0.6250    0.4625  0.1625   2.012815        0.765436        0.524466   \n",
       "3891   I  1.0625    0.7750  0.2625  10.347568        4.507570        2.338834   \n",
       "3892   I  0.7875    0.6125  0.2125   4.068153        1.502523        1.346601   \n",
       "\n",
       "      Shell Weight  Age  \n",
       "0         6.747181    9  \n",
       "1         1.559222    6  \n",
       "2         2.764076    6  \n",
       "3         5.244657   10  \n",
       "4         1.700970    6  \n",
       "...            ...  ...  \n",
       "3888      6.378637    8  \n",
       "3889      9.780577   10  \n",
       "3890      0.637864    5  \n",
       "3891      2.976698    6  \n",
       "3892      1.417475    8  \n",
       "\n",
       "[3893 rows x 9 columns]"
      ]
     },
     "execution_count": 104,
     "metadata": {},
     "output_type": "execute_result"
    }
   ],
   "source": [
    "import pandas as pd\n",
    "df = pd.read_csv('CrabAgePrediction.csv')\n",
    "df"
   ]
  },
  {
   "cell_type": "code",
   "execution_count": 99,
   "id": "44747115",
   "metadata": {},
   "outputs": [
    {
     "data": {
      "text/plain": [
       "(3893, 9)"
      ]
     },
     "execution_count": 99,
     "metadata": {},
     "output_type": "execute_result"
    }
   ],
   "source": [
    "df.shape\n"
   ]
  },
  {
   "cell_type": "code",
   "execution_count": 100,
   "id": "7e8ab277",
   "metadata": {},
   "outputs": [
    {
     "data": {
      "text/plain": [
       "<bound method NDFrame.describe of      Sex  Length  Diameter  Height     Weight  Shucked Weight  Viscera Weight  \\\n",
       "0      F  1.4375    1.1750  0.4125  24.635715       12.332033        5.584852   \n",
       "1      M  0.8875    0.6500  0.2125   5.400580        2.296310        1.374951   \n",
       "2      I  1.0375    0.7750  0.2500   7.952035        3.231843        1.601747   \n",
       "3      F  1.1750    0.8875  0.2500  13.480187        4.748541        2.282135   \n",
       "4      I  0.8875    0.6625  0.2125   6.903103        3.458639        1.488349   \n",
       "...   ..     ...       ...     ...        ...             ...             ...   \n",
       "3888   F  1.4625    1.1375  0.3250  24.819987       11.651644        5.854172   \n",
       "3889   F  1.5500    1.2125  0.4375  34.458817       15.450477        7.172423   \n",
       "3890   I  0.6250    0.4625  0.1625   2.012815        0.765436        0.524466   \n",
       "3891   I  1.0625    0.7750  0.2625  10.347568        4.507570        2.338834   \n",
       "3892   I  0.7875    0.6125  0.2125   4.068153        1.502523        1.346601   \n",
       "\n",
       "      Shell Weight  Age  \n",
       "0         6.747181    9  \n",
       "1         1.559222    6  \n",
       "2         2.764076    6  \n",
       "3         5.244657   10  \n",
       "4         1.700970    6  \n",
       "...            ...  ...  \n",
       "3888      6.378637    8  \n",
       "3889      9.780577   10  \n",
       "3890      0.637864    5  \n",
       "3891      2.976698    6  \n",
       "3892      1.417475    8  \n",
       "\n",
       "[3893 rows x 9 columns]>"
      ]
     },
     "execution_count": 100,
     "metadata": {},
     "output_type": "execute_result"
    }
   ],
   "source": [
    "df.describe"
   ]
  },
  {
   "cell_type": "code",
   "execution_count": 101,
   "id": "76deff73",
   "metadata": {},
   "outputs": [
    {
     "data": {
      "text/plain": [
       "array([['F', 1.4375, 1.175, ..., 5.5848515, 6.747181, 9],\n",
       "       ['M', 0.8875, 0.65, ..., 1.37495075, 1.5592225, 6],\n",
       "       ['I', 1.0375, 0.775, ..., 1.60174675, 2.76407625, 6],\n",
       "       ...,\n",
       "       ['I', 0.625, 0.4625, ..., 0.52446575, 0.63786375, 5],\n",
       "       ['I', 1.0625, 0.775, ..., 2.33883375, 2.9766975, 6],\n",
       "       ['I', 0.7875, 0.6125, ..., 1.34660125, 1.417475, 8]], dtype=object)"
      ]
     },
     "execution_count": 101,
     "metadata": {},
     "output_type": "execute_result"
    }
   ],
   "source": [
    "df.values"
   ]
  },
  {
   "cell_type": "code",
   "execution_count": 132,
   "id": "60c9a835",
   "metadata": {},
   "outputs": [
    {
     "data": {
      "text/plain": [
       "array(['M'], dtype=object)"
      ]
     },
     "execution_count": 132,
     "metadata": {},
     "output_type": "execute_result"
    }
   ],
   "source": [
    "#Learning and predicting\n",
    "# We are asking AI to predict the Sex of Crab according to their data\n",
    "from sklearn.tree import DecisionTreeClassifier\n",
    "\n",
    "X = df.drop(columns=['Sex'])\n",
    "y = df['Sex']\n",
    "\n",
    "model = DecisionTreeClassifier()\n",
    "model.fit(X.values, y)\n",
    "\n",
    "predictions = model.predict([[14.4375, 4.1750, 2.4125, 2.635715, 15.332033, 2.584852, 1.747181, 11]])\n",
    "predictions"
   ]
  },
  {
   "cell_type": "code",
   "execution_count": 300,
   "id": "0a82173e",
   "metadata": {},
   "outputs": [
    {
     "data": {
      "text/plain": [
       "0.4762516046213094"
      ]
     },
     "execution_count": 300,
     "metadata": {},
     "output_type": "execute_result"
    }
   ],
   "source": [
    "#Calculation The Accuracy\n",
    "from sklearn.model_selection import train_test_split\n",
    "from sklearn.metrics import accuracy_score\n",
    "\n",
    "df = pd.read_csv('CrabAgePrediction.csv')\n",
    "X = df.drop(columns=['Sex'])\n",
    "y = df['Sex']\n",
    "X_train, X_test, y_train, y_test = train_test_split(X, y, test_size=0.2)\n",
    "\n",
    "model = DecisionTreeClassifier()\n",
    "model.fit(X_train, y_train)\n",
    "predictions = model.predict(X_test)\n",
    "\n",
    "score = accuracy_score(y_test, predictions)\n",
    "score"
   ]
  },
  {
   "cell_type": "code",
   "execution_count": 301,
   "id": "9cdf1cfd",
   "metadata": {},
   "outputs": [
    {
     "data": {
      "text/plain": [
       "['Crab_Sex.joblib']"
      ]
     },
     "execution_count": 301,
     "metadata": {},
     "output_type": "execute_result"
    }
   ],
   "source": [
    "#Persisting Models\n",
    "import joblib\n",
    "\n",
    "joblib.dump(model, 'Crab_Sex.joblib')"
   ]
  },
  {
   "cell_type": "code",
   "execution_count": 311,
   "id": "cbf21e44",
   "metadata": {},
   "outputs": [
    {
     "data": {
      "text/plain": [
       "array(['M'], dtype=object)"
      ]
     },
     "execution_count": 311,
     "metadata": {},
     "output_type": "execute_result"
    }
   ],
   "source": [
    "#Checking if the model is working perfectly or not\n",
    "model = joblib.load('Crab_Sex.joblib')\n",
    "model.fit(X.values, y)\n",
    "predictions = model.predict([[1.4375, 1.1750, 22.4125, 12.635715, 12.332033, 14.584852, 3.747181, 4]])\n",
    "predictions"
   ]
  },
  {
   "cell_type": "code",
   "execution_count": 315,
   "id": "682c2652",
   "metadata": {},
   "outputs": [],
   "source": [
    "#Visualizing Decision Trees\n",
    "import pandas as pd\n",
    "from sklearn.tree import DecisionTreeClassifier\n",
    "from sklearn import tree\n",
    "\n",
    "df = pd.read_csv('CrabAgePrediction.csv')\n",
    "X = df.drop(columns=['Sex'])\n",
    "y = df['Sex']\n",
    "    \n",
    "model = DecisionTreeClassifier()\n",
    "model.fit(X.values, y)\n",
    "\n",
    "tree.export_graphviz(model, out_file='Crab_Sex.dot',\n",
    "                    feature_names=['Length','Diameter','Height','Weight','Shucked Weight','Viscera Weight','Shell Weight','Age'],\n",
    "                    class_names=sorted(y.unique()),\n",
    "                    label='all',\n",
    "                    rounded=True,\n",
    "                    filled=True) "
   ]
  }
 ],
 "metadata": {
  "kernelspec": {
   "display_name": "Python 3 (ipykernel)",
   "language": "python",
   "name": "python3"
  },
  "language_info": {
   "codemirror_mode": {
    "name": "ipython",
    "version": 3
   },
   "file_extension": ".py",
   "mimetype": "text/x-python",
   "name": "python",
   "nbconvert_exporter": "python",
   "pygments_lexer": "ipython3",
   "version": "3.9.13"
  }
 },
 "nbformat": 4,
 "nbformat_minor": 5
}
